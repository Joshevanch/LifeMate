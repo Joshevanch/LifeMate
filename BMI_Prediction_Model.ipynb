{
  "nbformat": 4,
  "nbformat_minor": 0,
  "metadata": {
    "colab": {
      "provenance": []
    },
    "kernelspec": {
      "name": "python3",
      "display_name": "Python 3"
    },
    "language_info": {
      "name": "python"
    }
  },
  "cells": [
    {
      "cell_type": "markdown",
      "source": [
        "# **Menyiapkan Dataset**"
      ],
      "metadata": {
        "id": "AbOa77JdL1hu"
      }
    },
    {
      "cell_type": "code",
      "execution_count": null,
      "metadata": {
        "colab": {
          "base_uri": "https://localhost:8080/"
        },
        "id": "-I_HY7GrSlMv",
        "outputId": "56d53496-bdc8-4fda-9b31-b2ef4e904cd8"
      },
      "outputs": [
        {
          "output_type": "stream",
          "name": "stdout",
          "text": [
            "--2023-06-03 11:33:12--  https://github.com/mawargun/Bangkit-Project/raw/main/BMI.zip\n",
            "Resolving github.com (github.com)... 192.30.255.112\n",
            "Connecting to github.com (github.com)|192.30.255.112|:443... connected.\n",
            "HTTP request sent, awaiting response... 302 Found\n",
            "Location: https://raw.githubusercontent.com/mawargun/Bangkit-Project/main/BMI.zip [following]\n",
            "--2023-06-03 11:33:12--  https://raw.githubusercontent.com/mawargun/Bangkit-Project/main/BMI.zip\n",
            "Resolving raw.githubusercontent.com (raw.githubusercontent.com)... 185.199.108.133, 185.199.109.133, 185.199.110.133, ...\n",
            "Connecting to raw.githubusercontent.com (raw.githubusercontent.com)|185.199.108.133|:443... connected.\n",
            "HTTP request sent, awaiting response... 200 OK\n",
            "Length: 2244 (2.2K) [application/zip]\n",
            "Saving to: ‘/tmp/Bangkit-dataset/bmi.zip’\n",
            "\n",
            "/tmp/Bangkit-datase 100%[===================>]   2.19K  --.-KB/s    in 0s      \n",
            "\n",
            "2023-06-03 11:33:12 (18.1 MB/s) - ‘/tmp/Bangkit-dataset/bmi.zip’ saved [2244/2244]\n",
            "\n"
          ]
        }
      ],
      "source": [
        "# melakukan download dataset \n",
        "\n",
        "!wget --no-check-certificate \\\n",
        "  https://github.com/mawargun/Bangkit-Project/raw/main/BMI.zip \\\n",
        "   -O /tmp/Bangkit-dataset/bmi.zip"
      ]
    },
    {
      "cell_type": "code",
      "source": [
        "#import library yang dibutuhkan\n",
        "import zipfile\n",
        "import os\n",
        "\n",
        "local_zip = '/tmp/Bangkit-dataset/bmi.zip'\n",
        "zip_ref = zipfile.ZipFile(local_zip, 'r')   #read zip file\n",
        "zip_ref.extractall('/tmp/Bangkit-dataset') #melakukan ekstact zipfile kemudian ditaruh pada directory tmp\n",
        "zip_ref.close()"
      ],
      "metadata": {
        "id": "pYzJTf2Dd-VP"
      },
      "execution_count": null,
      "outputs": []
    },
    {
      "cell_type": "code",
      "source": [
        "import os\n",
        "\n",
        "directory = '/tmp/Bangkit-dataset'\n",
        "files_in_directory = os.listdir(directory)\n",
        "print(files_in_directory)"
      ],
      "metadata": {
        "colab": {
          "base_uri": "https://localhost:8080/"
        },
        "id": "w3T4ZwgOhIQO",
        "outputId": "ee96d7f4-6ece-4d75-88d5-89118a98e312"
      },
      "execution_count": null,
      "outputs": [
        {
          "output_type": "stream",
          "name": "stdout",
          "text": [
            "['bmi.zip', 'bmi.csv']\n"
          ]
        }
      ]
    },
    {
      "cell_type": "code",
      "source": [
        "import pandas as pd\n",
        "import numpy as np\n",
        "\n",
        "csv_file_path = '/tmp/Bangkit-dataset/bmi.csv' \n",
        "data = pd.read_csv(csv_file_path)"
      ],
      "metadata": {
        "id": "CmOCVpDzhNSp"
      },
      "execution_count": null,
      "outputs": []
    },
    {
      "cell_type": "code",
      "source": [
        "data.dtypes"
      ],
      "metadata": {
        "colab": {
          "base_uri": "https://localhost:8080/"
        },
        "id": "rgywo6muWpjB",
        "outputId": "2b886e56-39a4-488b-aefb-6ce36cd94b14"
      },
      "execution_count": null,
      "outputs": [
        {
          "output_type": "execute_result",
          "data": {
            "text/plain": [
              "Gender    object\n",
              "Height     int64\n",
              "Weight     int64\n",
              "Index      int64\n",
              "dtype: object"
            ]
          },
          "metadata": {},
          "execution_count": 5
        }
      ]
    },
    {
      "cell_type": "code",
      "source": [
        "data"
      ],
      "metadata": {
        "colab": {
          "base_uri": "https://localhost:8080/",
          "height": 424
        },
        "id": "sGJ5-URubbnr",
        "outputId": "7e882f0b-febe-401e-f68c-f50e35eea4af"
      },
      "execution_count": null,
      "outputs": [
        {
          "output_type": "execute_result",
          "data": {
            "text/plain": [
              "     Gender  Height  Weight  Index\n",
              "0      Male     174      96      4\n",
              "1      Male     189      87      2\n",
              "2    Female     185     110      4\n",
              "3    Female     195     104      3\n",
              "4      Male     149      61      3\n",
              "..      ...     ...     ...    ...\n",
              "495  Female     150     153      5\n",
              "496  Female     184     121      4\n",
              "497  Female     141     136      5\n",
              "498    Male     150      95      5\n",
              "499    Male     173     131      5\n",
              "\n",
              "[500 rows x 4 columns]"
            ],
            "text/html": [
              "\n",
              "  <div id=\"df-24bb2a50-d71e-40a3-9879-e0df30fab200\">\n",
              "    <div class=\"colab-df-container\">\n",
              "      <div>\n",
              "<style scoped>\n",
              "    .dataframe tbody tr th:only-of-type {\n",
              "        vertical-align: middle;\n",
              "    }\n",
              "\n",
              "    .dataframe tbody tr th {\n",
              "        vertical-align: top;\n",
              "    }\n",
              "\n",
              "    .dataframe thead th {\n",
              "        text-align: right;\n",
              "    }\n",
              "</style>\n",
              "<table border=\"1\" class=\"dataframe\">\n",
              "  <thead>\n",
              "    <tr style=\"text-align: right;\">\n",
              "      <th></th>\n",
              "      <th>Gender</th>\n",
              "      <th>Height</th>\n",
              "      <th>Weight</th>\n",
              "      <th>Index</th>\n",
              "    </tr>\n",
              "  </thead>\n",
              "  <tbody>\n",
              "    <tr>\n",
              "      <th>0</th>\n",
              "      <td>Male</td>\n",
              "      <td>174</td>\n",
              "      <td>96</td>\n",
              "      <td>4</td>\n",
              "    </tr>\n",
              "    <tr>\n",
              "      <th>1</th>\n",
              "      <td>Male</td>\n",
              "      <td>189</td>\n",
              "      <td>87</td>\n",
              "      <td>2</td>\n",
              "    </tr>\n",
              "    <tr>\n",
              "      <th>2</th>\n",
              "      <td>Female</td>\n",
              "      <td>185</td>\n",
              "      <td>110</td>\n",
              "      <td>4</td>\n",
              "    </tr>\n",
              "    <tr>\n",
              "      <th>3</th>\n",
              "      <td>Female</td>\n",
              "      <td>195</td>\n",
              "      <td>104</td>\n",
              "      <td>3</td>\n",
              "    </tr>\n",
              "    <tr>\n",
              "      <th>4</th>\n",
              "      <td>Male</td>\n",
              "      <td>149</td>\n",
              "      <td>61</td>\n",
              "      <td>3</td>\n",
              "    </tr>\n",
              "    <tr>\n",
              "      <th>...</th>\n",
              "      <td>...</td>\n",
              "      <td>...</td>\n",
              "      <td>...</td>\n",
              "      <td>...</td>\n",
              "    </tr>\n",
              "    <tr>\n",
              "      <th>495</th>\n",
              "      <td>Female</td>\n",
              "      <td>150</td>\n",
              "      <td>153</td>\n",
              "      <td>5</td>\n",
              "    </tr>\n",
              "    <tr>\n",
              "      <th>496</th>\n",
              "      <td>Female</td>\n",
              "      <td>184</td>\n",
              "      <td>121</td>\n",
              "      <td>4</td>\n",
              "    </tr>\n",
              "    <tr>\n",
              "      <th>497</th>\n",
              "      <td>Female</td>\n",
              "      <td>141</td>\n",
              "      <td>136</td>\n",
              "      <td>5</td>\n",
              "    </tr>\n",
              "    <tr>\n",
              "      <th>498</th>\n",
              "      <td>Male</td>\n",
              "      <td>150</td>\n",
              "      <td>95</td>\n",
              "      <td>5</td>\n",
              "    </tr>\n",
              "    <tr>\n",
              "      <th>499</th>\n",
              "      <td>Male</td>\n",
              "      <td>173</td>\n",
              "      <td>131</td>\n",
              "      <td>5</td>\n",
              "    </tr>\n",
              "  </tbody>\n",
              "</table>\n",
              "<p>500 rows × 4 columns</p>\n",
              "</div>\n",
              "      <button class=\"colab-df-convert\" onclick=\"convertToInteractive('df-24bb2a50-d71e-40a3-9879-e0df30fab200')\"\n",
              "              title=\"Convert this dataframe to an interactive table.\"\n",
              "              style=\"display:none;\">\n",
              "        \n",
              "  <svg xmlns=\"http://www.w3.org/2000/svg\" height=\"24px\"viewBox=\"0 0 24 24\"\n",
              "       width=\"24px\">\n",
              "    <path d=\"M0 0h24v24H0V0z\" fill=\"none\"/>\n",
              "    <path d=\"M18.56 5.44l.94 2.06.94-2.06 2.06-.94-2.06-.94-.94-2.06-.94 2.06-2.06.94zm-11 1L8.5 8.5l.94-2.06 2.06-.94-2.06-.94L8.5 2.5l-.94 2.06-2.06.94zm10 10l.94 2.06.94-2.06 2.06-.94-2.06-.94-.94-2.06-.94 2.06-2.06.94z\"/><path d=\"M17.41 7.96l-1.37-1.37c-.4-.4-.92-.59-1.43-.59-.52 0-1.04.2-1.43.59L10.3 9.45l-7.72 7.72c-.78.78-.78 2.05 0 2.83L4 21.41c.39.39.9.59 1.41.59.51 0 1.02-.2 1.41-.59l7.78-7.78 2.81-2.81c.8-.78.8-2.07 0-2.86zM5.41 20L4 18.59l7.72-7.72 1.47 1.35L5.41 20z\"/>\n",
              "  </svg>\n",
              "      </button>\n",
              "      \n",
              "  <style>\n",
              "    .colab-df-container {\n",
              "      display:flex;\n",
              "      flex-wrap:wrap;\n",
              "      gap: 12px;\n",
              "    }\n",
              "\n",
              "    .colab-df-convert {\n",
              "      background-color: #E8F0FE;\n",
              "      border: none;\n",
              "      border-radius: 50%;\n",
              "      cursor: pointer;\n",
              "      display: none;\n",
              "      fill: #1967D2;\n",
              "      height: 32px;\n",
              "      padding: 0 0 0 0;\n",
              "      width: 32px;\n",
              "    }\n",
              "\n",
              "    .colab-df-convert:hover {\n",
              "      background-color: #E2EBFA;\n",
              "      box-shadow: 0px 1px 2px rgba(60, 64, 67, 0.3), 0px 1px 3px 1px rgba(60, 64, 67, 0.15);\n",
              "      fill: #174EA6;\n",
              "    }\n",
              "\n",
              "    [theme=dark] .colab-df-convert {\n",
              "      background-color: #3B4455;\n",
              "      fill: #D2E3FC;\n",
              "    }\n",
              "\n",
              "    [theme=dark] .colab-df-convert:hover {\n",
              "      background-color: #434B5C;\n",
              "      box-shadow: 0px 1px 3px 1px rgba(0, 0, 0, 0.15);\n",
              "      filter: drop-shadow(0px 1px 2px rgba(0, 0, 0, 0.3));\n",
              "      fill: #FFFFFF;\n",
              "    }\n",
              "  </style>\n",
              "\n",
              "      <script>\n",
              "        const buttonEl =\n",
              "          document.querySelector('#df-24bb2a50-d71e-40a3-9879-e0df30fab200 button.colab-df-convert');\n",
              "        buttonEl.style.display =\n",
              "          google.colab.kernel.accessAllowed ? 'block' : 'none';\n",
              "\n",
              "        async function convertToInteractive(key) {\n",
              "          const element = document.querySelector('#df-24bb2a50-d71e-40a3-9879-e0df30fab200');\n",
              "          const dataTable =\n",
              "            await google.colab.kernel.invokeFunction('convertToInteractive',\n",
              "                                                     [key], {});\n",
              "          if (!dataTable) return;\n",
              "\n",
              "          const docLinkHtml = 'Like what you see? Visit the ' +\n",
              "            '<a target=\"_blank\" href=https://colab.research.google.com/notebooks/data_table.ipynb>data table notebook</a>'\n",
              "            + ' to learn more about interactive tables.';\n",
              "          element.innerHTML = '';\n",
              "          dataTable['output_type'] = 'display_data';\n",
              "          await google.colab.output.renderOutput(dataTable, element);\n",
              "          const docLink = document.createElement('div');\n",
              "          docLink.innerHTML = docLinkHtml;\n",
              "          element.appendChild(docLink);\n",
              "        }\n",
              "      </script>\n",
              "    </div>\n",
              "  </div>\n",
              "  "
            ]
          },
          "metadata": {},
          "execution_count": 6
        }
      ]
    },
    {
      "cell_type": "code",
      "source": [
        "# Check unique values of \"index\" column\n",
        "unique_values = data[\"Index\"].unique()\n",
        "\n",
        "# Print the unique values\n",
        "print(unique_values)"
      ],
      "metadata": {
        "colab": {
          "base_uri": "https://localhost:8080/"
        },
        "id": "17L48loO2ibH",
        "outputId": "2267e3d9-e884-454e-bf49-b45aeefbb509"
      },
      "execution_count": null,
      "outputs": [
        {
          "output_type": "stream",
          "name": "stdout",
          "text": [
            "[4 2 3 5 1 0]\n"
          ]
        }
      ]
    },
    {
      "cell_type": "code",
      "source": [
        "bmi_categories = {\n",
        "    0: 'Extremely weak',\n",
        "    1: 'Weak',\n",
        "    2: 'Normal',\n",
        "    3: 'Overweight',\n",
        "    4: 'Obesity',\n",
        "    5: 'Extreme obesity'\n",
        "}\n",
        "\n",
        "df = pd.DataFrame(data)\n",
        "df['status'] = df['Index'].apply(lambda x: bmi_categories[x])\n",
        "df"
      ],
      "metadata": {
        "colab": {
          "base_uri": "https://localhost:8080/",
          "height": 424
        },
        "id": "JpeQHQu9Jegb",
        "outputId": "e730d781-0d81-4383-cb6b-5bdfa8ad6d90"
      },
      "execution_count": null,
      "outputs": [
        {
          "output_type": "execute_result",
          "data": {
            "text/plain": [
              "     Gender  Height  Weight  Index           status\n",
              "0      Male     174      96      4          Obesity\n",
              "1      Male     189      87      2           Normal\n",
              "2    Female     185     110      4          Obesity\n",
              "3    Female     195     104      3       Overweight\n",
              "4      Male     149      61      3       Overweight\n",
              "..      ...     ...     ...    ...              ...\n",
              "495  Female     150     153      5  Extreme obesity\n",
              "496  Female     184     121      4          Obesity\n",
              "497  Female     141     136      5  Extreme obesity\n",
              "498    Male     150      95      5  Extreme obesity\n",
              "499    Male     173     131      5  Extreme obesity\n",
              "\n",
              "[500 rows x 5 columns]"
            ],
            "text/html": [
              "\n",
              "  <div id=\"df-97847ff8-3beb-42da-8166-04cdb4f79bcf\">\n",
              "    <div class=\"colab-df-container\">\n",
              "      <div>\n",
              "<style scoped>\n",
              "    .dataframe tbody tr th:only-of-type {\n",
              "        vertical-align: middle;\n",
              "    }\n",
              "\n",
              "    .dataframe tbody tr th {\n",
              "        vertical-align: top;\n",
              "    }\n",
              "\n",
              "    .dataframe thead th {\n",
              "        text-align: right;\n",
              "    }\n",
              "</style>\n",
              "<table border=\"1\" class=\"dataframe\">\n",
              "  <thead>\n",
              "    <tr style=\"text-align: right;\">\n",
              "      <th></th>\n",
              "      <th>Gender</th>\n",
              "      <th>Height</th>\n",
              "      <th>Weight</th>\n",
              "      <th>Index</th>\n",
              "      <th>status</th>\n",
              "    </tr>\n",
              "  </thead>\n",
              "  <tbody>\n",
              "    <tr>\n",
              "      <th>0</th>\n",
              "      <td>Male</td>\n",
              "      <td>174</td>\n",
              "      <td>96</td>\n",
              "      <td>4</td>\n",
              "      <td>Obesity</td>\n",
              "    </tr>\n",
              "    <tr>\n",
              "      <th>1</th>\n",
              "      <td>Male</td>\n",
              "      <td>189</td>\n",
              "      <td>87</td>\n",
              "      <td>2</td>\n",
              "      <td>Normal</td>\n",
              "    </tr>\n",
              "    <tr>\n",
              "      <th>2</th>\n",
              "      <td>Female</td>\n",
              "      <td>185</td>\n",
              "      <td>110</td>\n",
              "      <td>4</td>\n",
              "      <td>Obesity</td>\n",
              "    </tr>\n",
              "    <tr>\n",
              "      <th>3</th>\n",
              "      <td>Female</td>\n",
              "      <td>195</td>\n",
              "      <td>104</td>\n",
              "      <td>3</td>\n",
              "      <td>Overweight</td>\n",
              "    </tr>\n",
              "    <tr>\n",
              "      <th>4</th>\n",
              "      <td>Male</td>\n",
              "      <td>149</td>\n",
              "      <td>61</td>\n",
              "      <td>3</td>\n",
              "      <td>Overweight</td>\n",
              "    </tr>\n",
              "    <tr>\n",
              "      <th>...</th>\n",
              "      <td>...</td>\n",
              "      <td>...</td>\n",
              "      <td>...</td>\n",
              "      <td>...</td>\n",
              "      <td>...</td>\n",
              "    </tr>\n",
              "    <tr>\n",
              "      <th>495</th>\n",
              "      <td>Female</td>\n",
              "      <td>150</td>\n",
              "      <td>153</td>\n",
              "      <td>5</td>\n",
              "      <td>Extreme obesity</td>\n",
              "    </tr>\n",
              "    <tr>\n",
              "      <th>496</th>\n",
              "      <td>Female</td>\n",
              "      <td>184</td>\n",
              "      <td>121</td>\n",
              "      <td>4</td>\n",
              "      <td>Obesity</td>\n",
              "    </tr>\n",
              "    <tr>\n",
              "      <th>497</th>\n",
              "      <td>Female</td>\n",
              "      <td>141</td>\n",
              "      <td>136</td>\n",
              "      <td>5</td>\n",
              "      <td>Extreme obesity</td>\n",
              "    </tr>\n",
              "    <tr>\n",
              "      <th>498</th>\n",
              "      <td>Male</td>\n",
              "      <td>150</td>\n",
              "      <td>95</td>\n",
              "      <td>5</td>\n",
              "      <td>Extreme obesity</td>\n",
              "    </tr>\n",
              "    <tr>\n",
              "      <th>499</th>\n",
              "      <td>Male</td>\n",
              "      <td>173</td>\n",
              "      <td>131</td>\n",
              "      <td>5</td>\n",
              "      <td>Extreme obesity</td>\n",
              "    </tr>\n",
              "  </tbody>\n",
              "</table>\n",
              "<p>500 rows × 5 columns</p>\n",
              "</div>\n",
              "      <button class=\"colab-df-convert\" onclick=\"convertToInteractive('df-97847ff8-3beb-42da-8166-04cdb4f79bcf')\"\n",
              "              title=\"Convert this dataframe to an interactive table.\"\n",
              "              style=\"display:none;\">\n",
              "        \n",
              "  <svg xmlns=\"http://www.w3.org/2000/svg\" height=\"24px\"viewBox=\"0 0 24 24\"\n",
              "       width=\"24px\">\n",
              "    <path d=\"M0 0h24v24H0V0z\" fill=\"none\"/>\n",
              "    <path d=\"M18.56 5.44l.94 2.06.94-2.06 2.06-.94-2.06-.94-.94-2.06-.94 2.06-2.06.94zm-11 1L8.5 8.5l.94-2.06 2.06-.94-2.06-.94L8.5 2.5l-.94 2.06-2.06.94zm10 10l.94 2.06.94-2.06 2.06-.94-2.06-.94-.94-2.06-.94 2.06-2.06.94z\"/><path d=\"M17.41 7.96l-1.37-1.37c-.4-.4-.92-.59-1.43-.59-.52 0-1.04.2-1.43.59L10.3 9.45l-7.72 7.72c-.78.78-.78 2.05 0 2.83L4 21.41c.39.39.9.59 1.41.59.51 0 1.02-.2 1.41-.59l7.78-7.78 2.81-2.81c.8-.78.8-2.07 0-2.86zM5.41 20L4 18.59l7.72-7.72 1.47 1.35L5.41 20z\"/>\n",
              "  </svg>\n",
              "      </button>\n",
              "      \n",
              "  <style>\n",
              "    .colab-df-container {\n",
              "      display:flex;\n",
              "      flex-wrap:wrap;\n",
              "      gap: 12px;\n",
              "    }\n",
              "\n",
              "    .colab-df-convert {\n",
              "      background-color: #E8F0FE;\n",
              "      border: none;\n",
              "      border-radius: 50%;\n",
              "      cursor: pointer;\n",
              "      display: none;\n",
              "      fill: #1967D2;\n",
              "      height: 32px;\n",
              "      padding: 0 0 0 0;\n",
              "      width: 32px;\n",
              "    }\n",
              "\n",
              "    .colab-df-convert:hover {\n",
              "      background-color: #E2EBFA;\n",
              "      box-shadow: 0px 1px 2px rgba(60, 64, 67, 0.3), 0px 1px 3px 1px rgba(60, 64, 67, 0.15);\n",
              "      fill: #174EA6;\n",
              "    }\n",
              "\n",
              "    [theme=dark] .colab-df-convert {\n",
              "      background-color: #3B4455;\n",
              "      fill: #D2E3FC;\n",
              "    }\n",
              "\n",
              "    [theme=dark] .colab-df-convert:hover {\n",
              "      background-color: #434B5C;\n",
              "      box-shadow: 0px 1px 3px 1px rgba(0, 0, 0, 0.15);\n",
              "      filter: drop-shadow(0px 1px 2px rgba(0, 0, 0, 0.3));\n",
              "      fill: #FFFFFF;\n",
              "    }\n",
              "  </style>\n",
              "\n",
              "      <script>\n",
              "        const buttonEl =\n",
              "          document.querySelector('#df-97847ff8-3beb-42da-8166-04cdb4f79bcf button.colab-df-convert');\n",
              "        buttonEl.style.display =\n",
              "          google.colab.kernel.accessAllowed ? 'block' : 'none';\n",
              "\n",
              "        async function convertToInteractive(key) {\n",
              "          const element = document.querySelector('#df-97847ff8-3beb-42da-8166-04cdb4f79bcf');\n",
              "          const dataTable =\n",
              "            await google.colab.kernel.invokeFunction('convertToInteractive',\n",
              "                                                     [key], {});\n",
              "          if (!dataTable) return;\n",
              "\n",
              "          const docLinkHtml = 'Like what you see? Visit the ' +\n",
              "            '<a target=\"_blank\" href=https://colab.research.google.com/notebooks/data_table.ipynb>data table notebook</a>'\n",
              "            + ' to learn more about interactive tables.';\n",
              "          element.innerHTML = '';\n",
              "          dataTable['output_type'] = 'display_data';\n",
              "          await google.colab.output.renderOutput(dataTable, element);\n",
              "          const docLink = document.createElement('div');\n",
              "          docLink.innerHTML = docLinkHtml;\n",
              "          element.appendChild(docLink);\n",
              "        }\n",
              "      </script>\n",
              "    </div>\n",
              "  </div>\n",
              "  "
            ]
          },
          "metadata": {},
          "execution_count": 8
        }
      ]
    },
    {
      "cell_type": "code",
      "source": [
        "df.head(20)"
      ],
      "metadata": {
        "colab": {
          "base_uri": "https://localhost:8080/",
          "height": 676
        },
        "id": "78dx4EO1Jp-f",
        "outputId": "6ec1ef58-1f15-4fdb-f7c1-956c720ccf36"
      },
      "execution_count": null,
      "outputs": [
        {
          "output_type": "execute_result",
          "data": {
            "text/plain": [
              "    Gender  Height  Weight  Index           status\n",
              "0     Male     174      96      4          Obesity\n",
              "1     Male     189      87      2           Normal\n",
              "2   Female     185     110      4          Obesity\n",
              "3   Female     195     104      3       Overweight\n",
              "4     Male     149      61      3       Overweight\n",
              "5     Male     189     104      3       Overweight\n",
              "6     Male     147      92      5  Extreme obesity\n",
              "7     Male     154     111      5  Extreme obesity\n",
              "8     Male     174      90      3       Overweight\n",
              "9   Female     169     103      4          Obesity\n",
              "10    Male     195      81      2           Normal\n",
              "11  Female     159      80      4          Obesity\n",
              "12  Female     192     101      3       Overweight\n",
              "13    Male     155      51      2           Normal\n",
              "14    Male     191      79      2           Normal\n",
              "15  Female     153     107      5  Extreme obesity\n",
              "16  Female     157     110      5  Extreme obesity\n",
              "17    Male     140     129      5  Extreme obesity\n",
              "18    Male     144     145      5  Extreme obesity\n",
              "19    Male     172     139      5  Extreme obesity"
            ],
            "text/html": [
              "\n",
              "  <div id=\"df-b8536bcb-7218-4b86-a104-2975ff8b4bdc\">\n",
              "    <div class=\"colab-df-container\">\n",
              "      <div>\n",
              "<style scoped>\n",
              "    .dataframe tbody tr th:only-of-type {\n",
              "        vertical-align: middle;\n",
              "    }\n",
              "\n",
              "    .dataframe tbody tr th {\n",
              "        vertical-align: top;\n",
              "    }\n",
              "\n",
              "    .dataframe thead th {\n",
              "        text-align: right;\n",
              "    }\n",
              "</style>\n",
              "<table border=\"1\" class=\"dataframe\">\n",
              "  <thead>\n",
              "    <tr style=\"text-align: right;\">\n",
              "      <th></th>\n",
              "      <th>Gender</th>\n",
              "      <th>Height</th>\n",
              "      <th>Weight</th>\n",
              "      <th>Index</th>\n",
              "      <th>status</th>\n",
              "    </tr>\n",
              "  </thead>\n",
              "  <tbody>\n",
              "    <tr>\n",
              "      <th>0</th>\n",
              "      <td>Male</td>\n",
              "      <td>174</td>\n",
              "      <td>96</td>\n",
              "      <td>4</td>\n",
              "      <td>Obesity</td>\n",
              "    </tr>\n",
              "    <tr>\n",
              "      <th>1</th>\n",
              "      <td>Male</td>\n",
              "      <td>189</td>\n",
              "      <td>87</td>\n",
              "      <td>2</td>\n",
              "      <td>Normal</td>\n",
              "    </tr>\n",
              "    <tr>\n",
              "      <th>2</th>\n",
              "      <td>Female</td>\n",
              "      <td>185</td>\n",
              "      <td>110</td>\n",
              "      <td>4</td>\n",
              "      <td>Obesity</td>\n",
              "    </tr>\n",
              "    <tr>\n",
              "      <th>3</th>\n",
              "      <td>Female</td>\n",
              "      <td>195</td>\n",
              "      <td>104</td>\n",
              "      <td>3</td>\n",
              "      <td>Overweight</td>\n",
              "    </tr>\n",
              "    <tr>\n",
              "      <th>4</th>\n",
              "      <td>Male</td>\n",
              "      <td>149</td>\n",
              "      <td>61</td>\n",
              "      <td>3</td>\n",
              "      <td>Overweight</td>\n",
              "    </tr>\n",
              "    <tr>\n",
              "      <th>5</th>\n",
              "      <td>Male</td>\n",
              "      <td>189</td>\n",
              "      <td>104</td>\n",
              "      <td>3</td>\n",
              "      <td>Overweight</td>\n",
              "    </tr>\n",
              "    <tr>\n",
              "      <th>6</th>\n",
              "      <td>Male</td>\n",
              "      <td>147</td>\n",
              "      <td>92</td>\n",
              "      <td>5</td>\n",
              "      <td>Extreme obesity</td>\n",
              "    </tr>\n",
              "    <tr>\n",
              "      <th>7</th>\n",
              "      <td>Male</td>\n",
              "      <td>154</td>\n",
              "      <td>111</td>\n",
              "      <td>5</td>\n",
              "      <td>Extreme obesity</td>\n",
              "    </tr>\n",
              "    <tr>\n",
              "      <th>8</th>\n",
              "      <td>Male</td>\n",
              "      <td>174</td>\n",
              "      <td>90</td>\n",
              "      <td>3</td>\n",
              "      <td>Overweight</td>\n",
              "    </tr>\n",
              "    <tr>\n",
              "      <th>9</th>\n",
              "      <td>Female</td>\n",
              "      <td>169</td>\n",
              "      <td>103</td>\n",
              "      <td>4</td>\n",
              "      <td>Obesity</td>\n",
              "    </tr>\n",
              "    <tr>\n",
              "      <th>10</th>\n",
              "      <td>Male</td>\n",
              "      <td>195</td>\n",
              "      <td>81</td>\n",
              "      <td>2</td>\n",
              "      <td>Normal</td>\n",
              "    </tr>\n",
              "    <tr>\n",
              "      <th>11</th>\n",
              "      <td>Female</td>\n",
              "      <td>159</td>\n",
              "      <td>80</td>\n",
              "      <td>4</td>\n",
              "      <td>Obesity</td>\n",
              "    </tr>\n",
              "    <tr>\n",
              "      <th>12</th>\n",
              "      <td>Female</td>\n",
              "      <td>192</td>\n",
              "      <td>101</td>\n",
              "      <td>3</td>\n",
              "      <td>Overweight</td>\n",
              "    </tr>\n",
              "    <tr>\n",
              "      <th>13</th>\n",
              "      <td>Male</td>\n",
              "      <td>155</td>\n",
              "      <td>51</td>\n",
              "      <td>2</td>\n",
              "      <td>Normal</td>\n",
              "    </tr>\n",
              "    <tr>\n",
              "      <th>14</th>\n",
              "      <td>Male</td>\n",
              "      <td>191</td>\n",
              "      <td>79</td>\n",
              "      <td>2</td>\n",
              "      <td>Normal</td>\n",
              "    </tr>\n",
              "    <tr>\n",
              "      <th>15</th>\n",
              "      <td>Female</td>\n",
              "      <td>153</td>\n",
              "      <td>107</td>\n",
              "      <td>5</td>\n",
              "      <td>Extreme obesity</td>\n",
              "    </tr>\n",
              "    <tr>\n",
              "      <th>16</th>\n",
              "      <td>Female</td>\n",
              "      <td>157</td>\n",
              "      <td>110</td>\n",
              "      <td>5</td>\n",
              "      <td>Extreme obesity</td>\n",
              "    </tr>\n",
              "    <tr>\n",
              "      <th>17</th>\n",
              "      <td>Male</td>\n",
              "      <td>140</td>\n",
              "      <td>129</td>\n",
              "      <td>5</td>\n",
              "      <td>Extreme obesity</td>\n",
              "    </tr>\n",
              "    <tr>\n",
              "      <th>18</th>\n",
              "      <td>Male</td>\n",
              "      <td>144</td>\n",
              "      <td>145</td>\n",
              "      <td>5</td>\n",
              "      <td>Extreme obesity</td>\n",
              "    </tr>\n",
              "    <tr>\n",
              "      <th>19</th>\n",
              "      <td>Male</td>\n",
              "      <td>172</td>\n",
              "      <td>139</td>\n",
              "      <td>5</td>\n",
              "      <td>Extreme obesity</td>\n",
              "    </tr>\n",
              "  </tbody>\n",
              "</table>\n",
              "</div>\n",
              "      <button class=\"colab-df-convert\" onclick=\"convertToInteractive('df-b8536bcb-7218-4b86-a104-2975ff8b4bdc')\"\n",
              "              title=\"Convert this dataframe to an interactive table.\"\n",
              "              style=\"display:none;\">\n",
              "        \n",
              "  <svg xmlns=\"http://www.w3.org/2000/svg\" height=\"24px\"viewBox=\"0 0 24 24\"\n",
              "       width=\"24px\">\n",
              "    <path d=\"M0 0h24v24H0V0z\" fill=\"none\"/>\n",
              "    <path d=\"M18.56 5.44l.94 2.06.94-2.06 2.06-.94-2.06-.94-.94-2.06-.94 2.06-2.06.94zm-11 1L8.5 8.5l.94-2.06 2.06-.94-2.06-.94L8.5 2.5l-.94 2.06-2.06.94zm10 10l.94 2.06.94-2.06 2.06-.94-2.06-.94-.94-2.06-.94 2.06-2.06.94z\"/><path d=\"M17.41 7.96l-1.37-1.37c-.4-.4-.92-.59-1.43-.59-.52 0-1.04.2-1.43.59L10.3 9.45l-7.72 7.72c-.78.78-.78 2.05 0 2.83L4 21.41c.39.39.9.59 1.41.59.51 0 1.02-.2 1.41-.59l7.78-7.78 2.81-2.81c.8-.78.8-2.07 0-2.86zM5.41 20L4 18.59l7.72-7.72 1.47 1.35L5.41 20z\"/>\n",
              "  </svg>\n",
              "      </button>\n",
              "      \n",
              "  <style>\n",
              "    .colab-df-container {\n",
              "      display:flex;\n",
              "      flex-wrap:wrap;\n",
              "      gap: 12px;\n",
              "    }\n",
              "\n",
              "    .colab-df-convert {\n",
              "      background-color: #E8F0FE;\n",
              "      border: none;\n",
              "      border-radius: 50%;\n",
              "      cursor: pointer;\n",
              "      display: none;\n",
              "      fill: #1967D2;\n",
              "      height: 32px;\n",
              "      padding: 0 0 0 0;\n",
              "      width: 32px;\n",
              "    }\n",
              "\n",
              "    .colab-df-convert:hover {\n",
              "      background-color: #E2EBFA;\n",
              "      box-shadow: 0px 1px 2px rgba(60, 64, 67, 0.3), 0px 1px 3px 1px rgba(60, 64, 67, 0.15);\n",
              "      fill: #174EA6;\n",
              "    }\n",
              "\n",
              "    [theme=dark] .colab-df-convert {\n",
              "      background-color: #3B4455;\n",
              "      fill: #D2E3FC;\n",
              "    }\n",
              "\n",
              "    [theme=dark] .colab-df-convert:hover {\n",
              "      background-color: #434B5C;\n",
              "      box-shadow: 0px 1px 3px 1px rgba(0, 0, 0, 0.15);\n",
              "      filter: drop-shadow(0px 1px 2px rgba(0, 0, 0, 0.3));\n",
              "      fill: #FFFFFF;\n",
              "    }\n",
              "  </style>\n",
              "\n",
              "      <script>\n",
              "        const buttonEl =\n",
              "          document.querySelector('#df-b8536bcb-7218-4b86-a104-2975ff8b4bdc button.colab-df-convert');\n",
              "        buttonEl.style.display =\n",
              "          google.colab.kernel.accessAllowed ? 'block' : 'none';\n",
              "\n",
              "        async function convertToInteractive(key) {\n",
              "          const element = document.querySelector('#df-b8536bcb-7218-4b86-a104-2975ff8b4bdc');\n",
              "          const dataTable =\n",
              "            await google.colab.kernel.invokeFunction('convertToInteractive',\n",
              "                                                     [key], {});\n",
              "          if (!dataTable) return;\n",
              "\n",
              "          const docLinkHtml = 'Like what you see? Visit the ' +\n",
              "            '<a target=\"_blank\" href=https://colab.research.google.com/notebooks/data_table.ipynb>data table notebook</a>'\n",
              "            + ' to learn more about interactive tables.';\n",
              "          element.innerHTML = '';\n",
              "          dataTable['output_type'] = 'display_data';\n",
              "          await google.colab.output.renderOutput(dataTable, element);\n",
              "          const docLink = document.createElement('div');\n",
              "          docLink.innerHTML = docLinkHtml;\n",
              "          element.appendChild(docLink);\n",
              "        }\n",
              "      </script>\n",
              "    </div>\n",
              "  </div>\n",
              "  "
            ]
          },
          "metadata": {},
          "execution_count": 9
        }
      ]
    },
    {
      "cell_type": "code",
      "source": [
        "#menampilkan nilai null dengan bentuk array\n",
        "np.array(data.isnull().sum())"
      ],
      "metadata": {
        "colab": {
          "base_uri": "https://localhost:8080/"
        },
        "id": "uEGVfjDqhZgK",
        "outputId": "c86b5df2-23aa-4b80-e2eb-ed7f50820848"
      },
      "execution_count": null,
      "outputs": [
        {
          "output_type": "execute_result",
          "data": {
            "text/plain": [
              "array([0, 0, 0, 0, 0])"
            ]
          },
          "metadata": {},
          "execution_count": 10
        }
      ]
    },
    {
      "cell_type": "code",
      "source": [
        "import matplotlib.pyplot as plt\n",
        "\n",
        "colors = {\n",
        "    'Extremely weak': 'red',\n",
        "    'Weak': 'orange',\n",
        "    'Normal': 'green',\n",
        "    'Overweight': 'blue',\n",
        "    'Obesity': 'purple',\n",
        "    'Extreme obesity': 'black'\n",
        "}\n",
        "\n",
        "# Create a scatter plot\n",
        "plt.figure(figsize=(10, 6))\n",
        "for status, color in colors.items():\n",
        "    subset = df[df['status'] == status]\n",
        "    plt.scatter(subset['Height'], subset['Weight'], color=color, label=status)\n",
        "\n",
        "# Set the plot title and labels\n",
        "plt.title('BMI Categories - Scatter Plot')\n",
        "plt.xlabel('Height')\n",
        "plt.ylabel('Weight')\n",
        "\n",
        "# Add a legend\n",
        "plt.legend()\n",
        "\n",
        "# Display the scatter plot\n",
        "plt.show()"
      ],
      "metadata": {
        "colab": {
          "base_uri": "https://localhost:8080/",
          "height": 564
        },
        "id": "_gQ9FbBNKLy8",
        "outputId": "42424a3e-9295-481f-d7e6-3b16f7b43510"
      },
      "execution_count": null,
      "outputs": [
        {
          "output_type": "display_data",
          "data": {
            "text/plain": [
              "<Figure size 1000x600 with 1 Axes>"
            ],
            "image/png": "[encoded data removed]"
          },
          "metadata": {}
        }
      ]
    },
    {
      "cell_type": "code",
      "source": [
        "# Encoding Gender column\n",
        "df['Gender'] = df['Gender'].apply(lambda x: 1 if x == 'Female' else 0)\n",
        "\n",
        "X = df.drop(['Index', 'status'], axis=1)\n",
        "y = df['Index']\n",
        "\n",
        "print(\"Predictors (X):\")\n",
        "print(X.head())\n",
        "print(\"\\nTarget Variable (y):\")\n",
        "print(y.head())"
      ],
      "metadata": {
        "id": "FFSxxxesXhq7",
        "colab": {
          "base_uri": "https://localhost:8080/"
        },
        "outputId": "af99637a-1b8c-4576-d093-6ffe4e844fa2"
      },
      "execution_count": null,
      "outputs": [
        {
          "output_type": "stream",
          "name": "stdout",
          "text": [
            "Predictors (X):\n",
            "   Gender  Height  Weight\n",
            "0       0     174      96\n",
            "1       0     189      87\n",
            "2       1     185     110\n",
            "3       1     195     104\n",
            "4       0     149      61\n",
            "\n",
            "Target Variable (y):\n",
            "0    4\n",
            "1    2\n",
            "2    4\n",
            "3    3\n",
            "4    3\n",
            "Name: Index, dtype: int64\n"
          ]
        }
      ]
    },
    {
      "cell_type": "code",
      "source": [
        "from sklearn.model_selection import train_test_split\n",
        "\n",
        "# Split the data into training and testing sets\n",
        "X_train, X_test, y_train, y_test = train_test_split(X,y,test_size=0.2, random_state=123, stratify=y)\n",
        "print(X_train.shape, y_train.shape)"
      ],
      "metadata": {
        "id": "A2DxuZqC7D3K",
        "colab": {
          "base_uri": "https://localhost:8080/"
        },
        "outputId": "300a32b6-8644-46c9-e95d-1d0c2647cbcf"
      },
      "execution_count": null,
      "outputs": [
        {
          "output_type": "stream",
          "name": "stdout",
          "text": [
            "(400, 3) (400,)\n"
          ]
        }
      ]
    },
    {
      "cell_type": "code",
      "source": [
        "from sklearn.preprocessing import StandardScaler\n",
        "\n",
        "sc = StandardScaler()\n",
        "X_train = sc.fit_transform(X_train)\n",
        "X_test = sc.transform (X_test)"
      ],
      "metadata": {
        "id": "vgZlztAaoi6H"
      },
      "execution_count": null,
      "outputs": []
    },
    {
      "cell_type": "code",
      "source": [
        "from imblearn.over_sampling import SMOTE\n",
        "\n",
        "smote = SMOTE(random_state = 12)\n",
        "X_train_sm, y_train_sm = smote.fit_resample(X_train, y_train)\n",
        "print(X_train_sm, y_train_sm)\n",
        "print(X_train_sm.shape, y_train_sm.shape)"
      ],
      "metadata": {
        "colab": {
          "base_uri": "https://localhost:8080/"
        },
        "id": "mcG-HMZMpT3W",
        "outputId": "8bfffe8a-4010-46fd-b6e0-f63e940d249d"
      },
      "execution_count": null,
      "outputs": [
        {
          "output_type": "stream",
          "name": "stdout",
          "text": [
            "[[-1.03046381  1.74351757 -0.23150522]\n",
            " [ 0.97043679 -0.25634617  1.16591059]\n",
            " [ 0.97043679 -1.34718094 -1.22522313]\n",
            " ...\n",
            " [-1.03046381  0.48926855 -0.0212583 ]\n",
            " [-1.03046381 -1.5160922  -0.77131042]\n",
            " [ 0.97043679  1.10048217  0.51898715]] 0      2\n",
            "1      5\n",
            "2      4\n",
            "3      3\n",
            "4      5\n",
            "      ..\n",
            "949    4\n",
            "950    4\n",
            "951    4\n",
            "952    4\n",
            "953    4\n",
            "Name: Index, Length: 954, dtype: int64\n",
            "(954, 3) (954,)\n"
          ]
        }
      ]
    },
    {
      "cell_type": "code",
      "source": [
        "from sklearn.svm import SVC\n",
        "from sklearn.model_selection import KFold, cross_val_score\n",
        "\n",
        "model_bmi = SVC(probability=True, gamma=0.001, C=1e5, decision_function_shape='ovo')\n",
        "clf = model_bmi\n",
        "model_bmi.fit(X_train, y_train)\n",
        "\n",
        "kf = KFold(shuffle=True, n_splits=8)\n",
        "scores = cross_val_score(clf, X_train, y_train, cv=kf, scoring='accuracy')\n",
        "print(scores)\n",
        "print(\"%0.2f accuracy with std of %0.2f\" % (scores.mean(), scores.std()))"
      ],
      "metadata": {
        "id": "wn3388-QFuc7",
        "colab": {
          "base_uri": "https://localhost:8080/"
        },
        "outputId": "eaf65f12-b05d-44b9-9dcf-48ee11d3e4ef"
      },
      "execution_count": null,
      "outputs": [
        {
          "output_type": "stream",
          "name": "stdout",
          "text": [
            "[0.92 0.96 0.96 1.   0.92 0.98 0.96 0.9 ]\n",
            "0.95 accuracy with std of 0.03\n"
          ]
        }
      ]
    },
    {
      "cell_type": "code",
      "source": [
        "# Calculate and print the accuracy for training data\n",
        "train_accuracy = model_bmi.score(X_train, y_train)\n",
        "print(\"Training Accuracy: %.2f\" % train_accuracy)\n",
        "\n",
        "# Calculate and print the accuracy for testing data\n",
        "test_accuracy = model_bmi.score(X_test, y_test)\n",
        "print(\"Testing Accuracy: %.2f\" % test_accuracy)"
      ],
      "metadata": {
        "colab": {
          "base_uri": "https://localhost:8080/"
        },
        "id": "Nkq2boqprnAR",
        "outputId": "2798c605-bd63-44e4-e953-3d741e7a8a17"
      },
      "execution_count": null,
      "outputs": [
        {
          "output_type": "stream",
          "name": "stdout",
          "text": [
            "Training Accuracy: 0.96\n",
            "Testing Accuracy: 0.94\n"
          ]
        }
      ]
    },
    {
      "cell_type": "code",
      "source": [
        "import matplotlib.pyplot as plt\n",
        "\n",
        "# Create a bar plot\n",
        "labels = ['Training Accuracy', 'Testing Accuracy']\n",
        "accuracies = [train_accuracy, test_accuracy]\n",
        "\n",
        "plt.bar(labels, accuracies)\n",
        "plt.ylim(0, 1)  # Set the y-axis limits from 0 to 1\n",
        "plt.ylabel('Accuracy')\n",
        "plt.title('Accuracy Comparison: Training vs Testing')\n",
        "\n",
        "# Add text annotations to the bars\n",
        "for i, v in enumerate(accuracies):\n",
        "    plt.text(i, v + 0.01, \"%.2f\" % v, ha='center')\n",
        "\n",
        "plt.show()"
      ],
      "metadata": {
        "colab": {
          "base_uri": "https://localhost:8080/",
          "height": 452
        },
        "id": "grVQTYtyr6Wp",
        "outputId": "6f49dd00-8601-45d2-d79c-c002eab15379"
      },
      "execution_count": null,
      "outputs": [
        {
          "output_type": "display_data",
          "data": {
            "text/plain": [
              "<Figure size 640x480 with 1 Axes>"
            ],
            "image/png": "[encoded data removed]"
          },
          "metadata": {}
        }
      ]
    },
    {
      "cell_type": "code",
      "source": [
        "Xnew = [[0, 180, 70]]\n",
        "Xnew = sc.transform(Xnew)\n",
        "ynew = model_bmi.predict(Xnew)\n",
        "result = ynew[0]  # Extract the integer value from the array\n",
        "print(result)"
      ],
      "metadata": {
        "colab": {
          "base_uri": "https://localhost:8080/"
        },
        "id": "VVL0dG5lsNA4",
        "outputId": "1d70a3ac-94d8-48bc-e192-c1386014526f"
      },
      "execution_count": null,
      "outputs": [
        {
          "output_type": "stream",
          "name": "stdout",
          "text": [
            "2\n"
          ]
        },
        {
          "output_type": "stream",
          "name": "stderr",
          "text": [
            "/usr/local/lib/python3.10/dist-packages/sklearn/base.py:439: UserWarning: X does not have valid feature names, but StandardScaler was fitted with feature names\n",
            "  warnings.warn(\n"
          ]
        }
      ]
    },
    {
      "cell_type": "code",
      "source": [
        "import os\n",
        "\n",
        "# Get the current working directory\n",
        "current_dir = os.getcwd()\n",
        "\n",
        "# Print the current directory path\n",
        "print(\"Current Directory:\", current_dir)"
      ],
      "metadata": {
        "colab": {
          "base_uri": "https://localhost:8080/"
        },
        "id": "sWmqpZ6xvNWZ",
        "outputId": "3668f137-0b22-47f0-dadf-4d12b3df3a7f"
      },
      "execution_count": null,
      "outputs": [
        {
          "output_type": "stream",
          "name": "stdout",
          "text": [
            "Current Directory: /content\n"
          ]
        }
      ]
    },
    {
      "cell_type": "code",
      "source": [
        "!pip install joblib"
      ],
      "metadata": {
        "colab": {
          "base_uri": "https://localhost:8080/"
        },
        "id": "-gVDbrI5Y8MG",
        "outputId": "69933815-2380-40d0-ced5-6efe14066f3b"
      },
      "execution_count": null,
      "outputs": [
        {
          "output_type": "stream",
          "name": "stdout",
          "text": [
            "Looking in indexes: https://pypi.org/simple, https://us-python.pkg.dev/colab-wheels/public/simple/\n",
            "Requirement already satisfied: joblib in /usr/local/lib/python3.10/dist-packages (1.2.0)\n"
          ]
        }
      ]
    }
  ]
}